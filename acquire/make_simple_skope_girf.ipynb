{
 "cells": [
  {
   "cell_type": "code",
   "execution_count": 9,
   "metadata": {},
   "outputs": [],
   "source": [
    "import sys\n",
    "sys.path.append('..')\n",
    "\n",
    "from pseq_helpers import *\n",
    "import pypulseq as pp\n",
    "import datetime\n",
    "import pickle"
   ]
  },
  {
   "cell_type": "code",
   "execution_count": 2,
   "metadata": {},
   "outputs": [],
   "source": [
    "# Initialize the sequence base\n",
    "pseq0 = Pseq_Base(channels = (\"x\", \"y\", \"z\"), max_grad=35, max_slew=150)\n",
    "\n",
    "# Plays skope trigger\n",
    "pseq_excite = PSeq_Skope_Trigger()\n",
    "\n",
    "# Both blip and chirp test waveforms\n",
    "pseq_test_blip = PSeq_WaveTest_Blip(pseq0, do_adc = False)\n",
    "pseq_test_chirp = PSeq_WaveTest_Chirp(pseq0, do_adc = False)\n",
    "\n",
    "# Refocuses moments (not strictly necessary)\n",
    "pe_refocus_areas = None\n",
    "pseq_refocus_blip = PSeq_Refocus_PE(pseq0, areas0=pe_refocus_areas, areas1=pe_refocus_areas, areas2=pseq_test_blip.all_refocus_areas)\n",
    "pseq_refocus_chirp = PSeq_Refocus_PE(pseq0, areas0=pe_refocus_areas, areas1=pe_refocus_areas, areas2=pseq_test_chirp.all_refocus_areas)"
   ]
  },
  {
   "cell_type": "code",
   "execution_count": 3,
   "metadata": {},
   "outputs": [],
   "source": [
    "TR = 500e-3\n",
    "N_av = 10\n",
    "\n",
    "pseq0.init_seq()\n",
    "all_meas = []\n",
    "\n",
    "for i_av in range(N_av):\n",
    "    for channels in [(\"y\", \"z\", \"x\"), (\"x\", \"z\", \"y\"), (\"x\", \"y\", \"z\")]:\n",
    "        pseq0.channels = channels\n",
    "        for mode in ['blip', 'chirp']:\n",
    "            if mode == 'blip':\n",
    "                pseq_test_wave, pseq_refocus = [pseq_test_blip, pseq_refocus_blip]\n",
    "            elif mode == 'chirp':\n",
    "                pseq_test_wave, pseq_refocus = [pseq_test_chirp, pseq_refocus_chirp]\n",
    "            for idx in range(12):  # Different blips/chirps for test waveforms\n",
    "                for polarity in [-1, 0, 1]:  # The 0 polarity can be removed here for better efficiency\n",
    "                    \n",
    "                    pseq0.add_pseq_to_self(pseq_excite)\n",
    "                    pseq0.add_pseq_to_self(pseq_test_wave, idx, polarity)\n",
    "                    pseq0.add_pseq_to_self(pseq_refocus, ie2 = idx, polarity2 = polarity)\n",
    "                    \n",
    "                    dur = (pseq_excite.get_duration() \n",
    "                    + pseq_test_wave.get_duration(idx, polarity) \n",
    "                    + pseq_refocus.get_duration(ie2 = idx, polarity2 = polarity)\n",
    "                    )\n",
    "\n",
    "                    pseq0.add_delay(TR-dur)\n",
    "                    \n",
    "                    all_meas.append(\n",
    "                        {'channels': channels,\n",
    "                        'mode': mode,\n",
    "                        'idx': idx,\n",
    "                        'polarity': polarity,\n",
    "                        'i_av': i_av,\n",
    "                        }\n",
    "                    )\n",
    "                \n",
    "pseq0.add_dummy_adc()"
   ]
  },
  {
   "cell_type": "code",
   "execution_count": 6,
   "metadata": {},
   "outputs": [
    {
     "name": "stdout",
     "output_type": "stream",
     "text": [
      "Seq Time: 0:18:00\n",
      "Timing check passed successfully\n"
     ]
    }
   ],
   "source": [
    "seq_time = pseq0.get_seq_time()\n",
    "print('Seq Time:', datetime.timedelta(seconds=round(seq_time)))\n",
    "\n",
    "# Error \"p_vit = ...\" is from calculating trajectory during empty ADC, seems fine\n",
    "ok, error_report = pseq0.seq.check_timing()\n",
    "if ok:\n",
    "    print(\"Timing check passed successfully\")\n",
    "else:\n",
    "    print(\"Timing check failed. Error listing follows:\")\n",
    "    [print(e) for e in error_report]"
   ]
  },
  {
   "cell_type": "code",
   "execution_count": null,
   "metadata": {},
   "outputs": [],
   "source": [
    "wave_data, tfp_excitation, tfp_refocusing, t_adc, fp_adc = pseq0.seq.waveforms_and_times(append_RF=True)\n",
    "t_trigger = get_trigger_times(pseq0.seq)\n",
    "\n",
    "# This contains all of the information needed to process the GIRF (and then some)\n",
    "save_res = {'all_meas': all_meas, \n",
    "            'wave_data':wave_data,\n",
    "            'tfp_excitation':tfp_excitation,\n",
    "            'tfp_refocusing':tfp_refocusing,\n",
    "            't_adc':t_adc,\n",
    "            'fp_adc':fp_adc,\n",
    "            't_trigger': t_trigger,\n",
    "            }\n"
   ]
  },
  {
   "cell_type": "code",
   "execution_count": null,
   "metadata": {},
   "outputs": [
    {
     "name": "stdout",
     "output_type": "stream",
     "text": [
      "seq_name = 'skope_meas'\n"
     ]
    }
   ],
   "source": [
    "seq_name = f'skope_meas'\n",
    "print(f'{seq_name = }')\n",
    "pseq0.seq.set_definition(key=\"FOV\", value=200e-3)\n",
    "pseq0.seq.set_definition(key=\"Name\", value=seq_name)\n",
    "\n",
    "pseq0.seq.write(f'./seqs/{seq_name}.seq')\n",
    "with open(f'./seqs/{seq_name}.pickle', 'wb') as handle:\n",
    "    pickle.dump(save_res, handle, protocol=pickle.HIGHEST_PROTOCOL)"
   ]
  },
  {
   "cell_type": "code",
   "execution_count": null,
   "metadata": {},
   "outputs": [],
   "source": []
  }
 ],
 "metadata": {
  "kernelspec": {
   "display_name": "base",
   "language": "python",
   "name": "python3"
  },
  "language_info": {
   "codemirror_mode": {
    "name": "ipython",
    "version": 3
   },
   "file_extension": ".py",
   "mimetype": "text/x-python",
   "name": "python",
   "nbconvert_exporter": "python",
   "pygments_lexer": "ipython3",
   "version": "3.11.5"
  }
 },
 "nbformat": 4,
 "nbformat_minor": 2
}
